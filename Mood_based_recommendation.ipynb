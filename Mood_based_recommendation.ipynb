{
 "cells": [
  {
   "cell_type": "code",
   "execution_count": null,
   "id": "c599d624",
   "metadata": {},
   "outputs": [],
   "source": [
    "import numpy as np\n",
    "import pandas as pd"
   ]
  },
  {
   "cell_type": "code",
   "execution_count": null,
   "id": "23a71440",
   "metadata": {},
   "outputs": [],
   "source": [
    "mood_data = pd.read_csv('data_moods .csv')\n",
    "data = pd.read_csv('data.csv')"
   ]
  },
  {
   "cell_type": "code",
   "execution_count": null,
   "id": "28ce91cc",
   "metadata": {},
   "outputs": [],
   "source": [
    "mood_data"
   ]
  },
  {
   "cell_type": "code",
   "execution_count": null,
   "id": "eced8f45",
   "metadata": {},
   "outputs": [],
   "source": [
    "data"
   ]
  },
  {
   "cell_type": "code",
   "execution_count": null,
   "id": "3e8cbf7a",
   "metadata": {},
   "outputs": [],
   "source": [
    "features = ['acousticness','danceability', 'energy','instrumentalness', 'liveness', 'loudness', 'speechiness', 'valence', 'tempo', 'duration_ms', 'key']\n"
   ]
  },
  {
   "cell_type": "markdown",
   "id": "6e947758",
   "metadata": {},
   "source": [
    "# Clustering Emotions Data."
   ]
  },
  {
   "cell_type": "code",
   "execution_count": null,
   "id": "96b08838",
   "metadata": {},
   "outputs": [],
   "source": [
    "numerical_data = mood_data[features]"
   ]
  },
  {
   "cell_type": "code",
   "execution_count": null,
   "id": "4e118e26",
   "metadata": {},
   "outputs": [],
   "source": [
    "from sklearn.preprocessing import StandardScaler\n",
    "\n",
    "song_moods_scaler = StandardScaler()\n",
    "scale_data = song_moods_scaler.fit_transform(numerical_data)"
   ]
  },
  {
   "cell_type": "code",
   "execution_count": null,
   "id": "ae38fba4",
   "metadata": {},
   "outputs": [],
   "source": [
    "from sklearn.cluster import KMeans\n",
    "\n",
    "mood_cluster = KMeans(n_clusters = 5)\n",
    "mood_cluster.fit(scale_data)"
   ]
  },
  {
   "cell_type": "code",
   "execution_count": null,
   "id": "8268f5db",
   "metadata": {},
   "outputs": [],
   "source": [
    "from sklearn.decomposition import PCA\n",
    "\n",
    "mood_reducer = PCA(n_components = 2)\n",
    "reduce_data = mood_reducer.fit_transform(scale_data)"
   ]
  },
  {
   "cell_type": "code",
   "execution_count": null,
   "id": "ba69e5e0",
   "metadata": {},
   "outputs": [],
   "source": [
    "cluster_labels = mood_cluster.labels_\n",
    "mood_data['cluster'] = cluster_labels"
   ]
  },
  {
   "cell_type": "code",
   "execution_count": null,
   "id": "c6fe5aa6",
   "metadata": {},
   "outputs": [],
   "source": [
    "new_mood_data = pd.DataFrame(columns = ['x-axis', 'y-axis'], data = reduce_data)\n",
    "\n",
    "new_mood_data['name'] = mood_data['name']\n",
    "new_mood_data['mood'] = mood_data['mood']\n",
    "new_mood_data['cluster'] = mood_data['cluster']"
   ]
  },
  {
   "cell_type": "code",
   "execution_count": null,
   "id": "30e9028b",
   "metadata": {},
   "outputs": [],
   "source": [
    "new_mood_data"
   ]
  },
  {
   "cell_type": "code",
   "execution_count": null,
   "id": "13a68742",
   "metadata": {},
   "outputs": [],
   "source": [
    "import plotly.express as px\n",
    "\n",
    "graph = px.scatter(new_mood_data, x = 'x-axis', y = 'y-axis', color = 'cluster', hover_data = ['x-axis', 'y-axis', 'name'])\n",
    "\n",
    "graph.show()"
   ]
  },
  {
   "cell_type": "markdown",
   "id": "7dd7eeea",
   "metadata": {},
   "source": [
    "# Clustering of songs with names"
   ]
  },
  {
   "cell_type": "code",
   "execution_count": null,
   "id": "a06cfdd5",
   "metadata": {},
   "outputs": [],
   "source": [
    "# taking the numeric data\n",
    "\n",
    "numeric_song_data = data[features]\n",
    "numeric_song_data"
   ]
  },
  {
   "cell_type": "code",
   "execution_count": null,
   "id": "afd44980",
   "metadata": {},
   "outputs": [],
   "source": [
    "# scaling the data\n",
    "from sklearn.preprocessing import StandardScaler\n",
    "\n",
    "song_scaler = StandardScaler()\n",
    "scaled_song_data = song_scaler.fit_transform(numeric_song_data)"
   ]
  },
  {
   "cell_type": "code",
   "execution_count": null,
   "id": "e6fdd22a",
   "metadata": {},
   "outputs": [],
   "source": [
    "# clustering the scaled data.\n",
    "from sklearn.cluster import KMeans\n",
    "\n",
    "song_cluster = KMeans(n_clusters = 20)\n",
    "song_cluster.fit(scaled_song_data)"
   ]
  },
  {
   "cell_type": "code",
   "execution_count": null,
   "id": "15e49c1e",
   "metadata": {},
   "outputs": [],
   "source": [
    "# labeling song clusters\n",
    "song_cluster_labels = song_cluster.labels_\n",
    "\n",
    "# addinng cluster lables to the datset\n",
    "data['clusters'] = song_cluster_labels\n"
   ]
  },
  {
   "cell_type": "code",
   "execution_count": null,
   "id": "362c33bf",
   "metadata": {},
   "outputs": [],
   "source": [
    "# reducing the dimensionality for graph plotting.\n",
    "# as data has linear relation instead of TSNE we use PCA\n",
    "\n",
    "from sklearn.decomposition import PCA\n",
    "\n",
    "song_reducer = PCA(n_components = 2)\n",
    "reduced_song_data = song_reducer.fit_transform(scaled_song_data)"
   ]
  },
  {
   "cell_type": "code",
   "execution_count": null,
   "id": "79650f99",
   "metadata": {},
   "outputs": [],
   "source": [
    "new_song_dataset = pd.DataFrame(columns = ['x-axis', 'y-axis'], data = reduced_song_data)\n",
    "new_song_dataset['name'] = data['name']\n",
    "new_song_dataset['clusters'] = data['clusters']"
   ]
  },
  {
   "cell_type": "code",
   "execution_count": null,
   "id": "d40b63ed",
   "metadata": {},
   "outputs": [],
   "source": [
    "import plotly.express as px\n",
    "\n",
    "song_graph = px.scatter(new_song_dataset, x = 'x-axis', y = 'y-axis', color = 'clusters', hover_data = ['x-axis', 'y-axis', 'clusters'])\n",
    "song_graph.show()"
   ]
  },
  {
   "cell_type": "code",
   "execution_count": null,
   "id": "37bc8aa0",
   "metadata": {},
   "outputs": [],
   "source": []
  },
  {
   "cell_type": "code",
   "execution_count": null,
   "id": "7ed2085d",
   "metadata": {},
   "outputs": [],
   "source": []
  },
  {
   "cell_type": "code",
   "execution_count": null,
   "id": "25d798fc",
   "metadata": {},
   "outputs": [],
   "source": [
    "distinct = mood_data['mood'].unique()\n",
    "distinct"
   ]
  },
  {
   "cell_type": "code",
   "execution_count": null,
   "id": "468d4d17",
   "metadata": {},
   "outputs": [],
   "source": [
    "Grouped_data = mood_data.groupby('mood')"
   ]
  },
  {
   "cell_type": "code",
   "execution_count": null,
   "id": "f5a0464a",
   "metadata": {},
   "outputs": [],
   "source": [
    "mean_values = Grouped_data[features].mean()"
   ]
  },
  {
   "cell_type": "code",
   "execution_count": null,
   "id": "cd207bad",
   "metadata": {},
   "outputs": [],
   "source": [
    "moods = ['Calm', 'Energetic', 'Happy', 'Sad']\n",
    "mean_values['mood'] = moods"
   ]
  },
  {
   "cell_type": "code",
   "execution_count": null,
   "id": "9de815fd",
   "metadata": {},
   "outputs": [],
   "source": [
    "mean_values"
   ]
  },
  {
   "cell_type": "code",
   "execution_count": null,
   "id": "92c986ac",
   "metadata": {},
   "outputs": [],
   "source": []
  },
  {
   "cell_type": "code",
   "execution_count": null,
   "id": "bf3d2099",
   "metadata": {},
   "outputs": [],
   "source": []
  },
  {
   "cell_type": "markdown",
   "id": "4b379781",
   "metadata": {},
   "source": [
    "# Recommending songs Based on Mood"
   ]
  },
  {
   "cell_type": "markdown",
   "id": "53fe0526",
   "metadata": {},
   "source": [
    "## Song name as Input"
   ]
  },
  {
   "cell_type": "code",
   "execution_count": null,
   "id": "425f99b5",
   "metadata": {},
   "outputs": [],
   "source": [
    "from sklearn.metrics.pairwise import cosine_similarity"
   ]
  },
  {
   "cell_type": "code",
   "execution_count": null,
   "id": "90733904",
   "metadata": {},
   "outputs": [],
   "source": [
    "def MoodBasedRecommender1(song_name):\n",
    "    song_features = data.loc[data['name'] == song_name, features].iloc[0]\n",
    "    best_mood_match = None\n",
    "    best_mood_similarity = -1\n",
    "    #Finding the mood of the song\n",
    "    for index,row in mean_values.iterrows():\n",
    "        mood_features = row[features]\n",
    "        similarity = cosine_similarity([song_features], [mood_features])[0][0]\n",
    "        if similarity > best_mood_similarity:\n",
    "            best_mood_match = row['mood']\n",
    "            best_mood_similarity = similarity\n",
    "    song_mood = best_mood_match\n",
    "    #finding song cluster\n",
    "    song_cluster = data.loc[data['name'] == song_name, 'clusters'].iloc[0]\n",
    "    \n",
    "    #Filtering similar cluster songs\n",
    "    similar_cluster_songs = data.loc[data['clusters'] == song_cluster]\n",
    "    \n",
    "    best_songs = {}\n",
    "    mood_features = mean_values.loc[mean_values['mood'] == song_mood, features].iloc[0]\n",
    "    best_song_match = None\n",
    "    best_song_similarity = -1\n",
    "    \n",
    "    for index,row in similar_cluster_songs.iterrows():\n",
    "        song_features = row[features]\n",
    "        song_similarity = cosine_similarity([song_features],[mood_features])[0][0]\n",
    "        if song_similarity > best_song_similarity:\n",
    "            best_song_match = row['name']\n",
    "            best_song_similarity = song_similarity\n",
    "            best_songs[best_song_match] = best_song_similarity\n",
    "    return best_songs"
   ]
  },
  {
   "cell_type": "code",
   "execution_count": null,
   "id": "58901dfc",
   "metadata": {},
   "outputs": [],
   "source": [
    "# Calling the recommending function\n",
    "best_songs = MoodBasedRecommender1(\"Clancy Lowered the Boom\")\n",
    "# sorting the best similar songs\n",
    "sorted_best_songs = dict(sorted(best_songs.items(), key = lambda x: x[1]))\n",
    "# Printing the recommending songs\n",
    "best_songs_list = list(sorted_best_songs.keys())\n",
    "for i in range(len(best_songs_list)):\n",
    "    if i <= 4 :\n",
    "        print(best_songs_list[i])\n",
    "    else:\n",
    "        break"
   ]
  },
  {
   "cell_type": "markdown",
   "id": "1e6f377c",
   "metadata": {},
   "source": [
    "## mood as input"
   ]
  },
  {
   "cell_type": "code",
   "execution_count": null,
   "id": "5d9e8095",
   "metadata": {},
   "outputs": [],
   "source": [
    "def MoodBasedRecommender2(mood):\n",
    "    best_songs = {}\n",
    "    mood_features = mean_values.loc[mean_values['mood'] == mood, features].iloc[0]\n",
    "    best_song_match = None\n",
    "    best_song_similarity = -1\n",
    "    \n",
    "    for index,row in data.iterrows():\n",
    "        song_features = row[features]\n",
    "        song_similarity = cosine_similarity([song_features],[mood_features])[0][0]\n",
    "        if song_similarity > best_song_similarity:\n",
    "            best_song_match = row['name']\n",
    "            best_song_similarity = song_similarity\n",
    "            best_songs[best_song_match] = best_song_similarity\n",
    "    return best_songs"
   ]
  },
  {
   "cell_type": "code",
   "execution_count": null,
   "id": "cc0d7748",
   "metadata": {},
   "outputs": [],
   "source": [
    "# Calling the recommending function\n",
    "best_songs = MoodBasedRecommender2(\"Happy\")\n",
    "# sorting the best similar songs\n",
    "sorted_best_songs = dict(sorted(best_songs.items(), key = lambda x: x[1]))\n",
    "# Printing the recommending songs\n",
    "best_songs_list = list(sorted_best_songs.keys())\n",
    "for i in range(len(best_songs_list)):\n",
    "    if i <= 4 :\n",
    "        print(best_songs_list[i])\n",
    "    else:\n",
    "        break"
   ]
  },
  {
   "cell_type": "code",
   "execution_count": null,
   "id": "b9a3e9be",
   "metadata": {},
   "outputs": [],
   "source": []
  }
 ],
 "metadata": {
  "kernelspec": {
   "display_name": "Python 3",
   "language": "python",
   "name": "python3"
  },
  "language_info": {
   "codemirror_mode": {
    "name": "ipython",
    "version": 3
   },
   "file_extension": ".py",
   "mimetype": "text/x-python",
   "name": "python",
   "nbconvert_exporter": "python",
   "pygments_lexer": "ipython3",
   "version": "3.8.8"
  }
 },
 "nbformat": 4,
 "nbformat_minor": 5
}

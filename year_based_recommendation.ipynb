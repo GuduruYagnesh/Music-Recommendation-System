{
 "cells": [
  {
   "cell_type": "code",
   "execution_count": null,
   "id": "65be57fb",
   "metadata": {},
   "outputs": [],
   "source": [
    "import pandas as pd\n",
    "import numpy as np\n",
    "import matplotlib.pyplot as mtp\n",
    "import seaborn as sb\n",
    "import plotly.express as px"
   ]
  },
  {
   "cell_type": "code",
   "execution_count": null,
   "id": "da88e08d",
   "metadata": {},
   "outputs": [],
   "source": [
    "data_year = pd.read_csv(\"data_by_year.csv\")\n",
    "data = pd.read_csv('data.csv')"
   ]
  },
  {
   "cell_type": "code",
   "execution_count": null,
   "id": "9f65415c",
   "metadata": {},
   "outputs": [],
   "source": [
    "data_year.info()"
   ]
  },
  {
   "cell_type": "code",
   "execution_count": null,
   "id": "b21e73e4",
   "metadata": {},
   "outputs": [],
   "source": [
    "data_year"
   ]
  },
  {
   "cell_type": "code",
   "execution_count": null,
   "id": "66c7835f",
   "metadata": {},
   "outputs": [],
   "source": [
    "data_year.isnull().sum()"
   ]
  },
  {
   "cell_type": "code",
   "execution_count": null,
   "id": "182b7ec1",
   "metadata": {},
   "outputs": [],
   "source": [
    "data"
   ]
  },
  {
   "cell_type": "code",
   "execution_count": null,
   "id": "d9bec60e",
   "metadata": {},
   "outputs": [],
   "source": [
    "data.isnull().sum()"
   ]
  },
  {
   "cell_type": "code",
   "execution_count": null,
   "id": "ddc5f3c4",
   "metadata": {},
   "outputs": [],
   "source": [
    "features = ['acousticness','danceability', 'energy','instrumentalness', 'liveness', 'loudness', 'speechiness', 'valence', 'tempo', 'duration_ms', 'key']"
   ]
  },
  {
   "cell_type": "code",
   "execution_count": null,
   "id": "276fec2a",
   "metadata": {},
   "outputs": [],
   "source": []
  },
  {
   "cell_type": "code",
   "execution_count": null,
   "id": "77753a1a",
   "metadata": {},
   "outputs": [],
   "source": [
    "numeric_song_data = data[features]"
   ]
  },
  {
   "cell_type": "code",
   "execution_count": null,
   "id": "8a8b5d58",
   "metadata": {},
   "outputs": [],
   "source": [
    "from sklearn.preprocessing import StandardScaler\n",
    "#scaling data\n",
    "song_scaler = StandardScaler()\n",
    "scaled_song_data = song_scaler.fit_transform(numeric_song_data)\n",
    "\n",
    "#clusteriong the scaled data\n",
    "from sklearn.cluster import KMeans\n",
    "song_cluster = KMeans(n_clusters = 20)\n",
    "song_cluster.fit(scaled_song_data)"
   ]
  },
  {
   "cell_type": "code",
   "execution_count": null,
   "id": "55336072",
   "metadata": {},
   "outputs": [],
   "source": [
    "# labeling song clusters\n",
    "song_cluster_labels = song_cluster.labels_\n",
    "\n",
    "# addinng cluster lables to the datset\n",
    "data['clusters'] = song_cluster_labels\n",
    "\n",
    "# reducing the dimensionality for graph plotting.\n",
    "# as data has linear relation instead of TSNE we use PCA\n",
    "\n",
    "from sklearn.decomposition import PCA\n",
    "\n",
    "song_reducer = PCA(n_components = 2)\n",
    "reduced_song_data = song_reducer.fit_transform(scaled_song_data)"
   ]
  },
  {
   "cell_type": "code",
   "execution_count": null,
   "id": "924433ed",
   "metadata": {},
   "outputs": [],
   "source": [
    "new_song_dataset = pd.DataFrame(columns = ['x-axis', 'y-axis'], data = reduced_song_data)\n",
    "new_song_dataset['year'] = data['year']\n",
    "new_song_dataset['clusters'] = data['clusters']"
   ]
  },
  {
   "cell_type": "code",
   "execution_count": null,
   "id": "1ac458b7",
   "metadata": {},
   "outputs": [],
   "source": [
    "song_graph = px.scatter(new_song_dataset, x = 'x-axis', y = 'y-axis', color = 'clusters', hover_data = ['x-axis', 'y-axis', 'clusters'])\n",
    "song_graph.show()"
   ]
  },
  {
   "cell_type": "markdown",
   "id": "91b94900",
   "metadata": {},
   "source": [
    "# Recommending songs.\n",
    "    If the input is song name."
   ]
  },
  {
   "cell_type": "code",
   "execution_count": null,
   "id": "9b3edf24",
   "metadata": {},
   "outputs": [],
   "source": [
    "def ArtistBasedRecommender1(song_name):\n",
    "#     finding the cluster of the song\n",
    "    song_cluster = data.loc[data['name'] == song_name, 'clusters'].values[0]\n",
    "#     finding the year of the song\n",
    "    song_year = data.loc[data['name'] == song_name, 'year'].values[0]\n",
    "#     finding similar cluster songs\n",
    "    similar_cluster_songs = data.loc[data['clusters'] == song_cluster]\n",
    "#     finding the similar year songs from similar clustered songs\n",
    "    similar_year_songs = similar_cluster_songs.loc[similar_cluster_songs['year'] == song_year]\n",
    "    recommending_songs = similar_year_songs.loc[similar_year_songs['name'] != song_name]\n",
    "    top_recommending_songs = recommending_songs.nlargest(5, 'popularity')\n",
    "#     top_songs = top_recommending_songs['name']\n",
    "#     empty list\n",
    "    ls = []\n",
    "    \n",
    "    for index,row in top_recommending_songs.iterrows():\n",
    "        name_of_song = row['name']\n",
    "        ls.append(name_of_song)\n",
    "    return ls"
   ]
  },
  {
   "cell_type": "code",
   "execution_count": null,
   "id": "312c1691",
   "metadata": {},
   "outputs": [],
   "source": [
    "best_songs = ArtistBasedRecommender1('Clancy Lowered the Boom')\n",
    "for i in best_songs:\n",
    "    print(i)"
   ]
  },
  {
   "cell_type": "markdown",
   "id": "69de749e",
   "metadata": {},
   "source": [
    "# Recommending songs\n",
    "    If the input is year."
   ]
  },
  {
   "cell_type": "code",
   "execution_count": null,
   "id": "1ad79cde",
   "metadata": {},
   "outputs": [],
   "source": [
    "from sklearn.metrics.pairwise import cosine_similarity\n",
    "\n",
    "def ArtistBasedRecommender2(song_year):\n",
    "\n",
    "    similar_year_songs = data.loc[data['year'] == song_year]\n",
    "    \n",
    "    top_recommending_songs = similar_year_songs.nlargest(5, 'popularity')\n",
    "    \n",
    "    for index,row in top_recommending_songs.iterrows():\n",
    "        song_name = row['name']\n",
    "        print(song_name)\n"
   ]
  },
  {
   "cell_type": "code",
   "execution_count": null,
   "id": "b20f8a36",
   "metadata": {},
   "outputs": [],
   "source": [
    "best_songs = ArtistBasedRecommender2(1921)\n",
    "best_songs"
   ]
  },
  {
   "cell_type": "code",
   "execution_count": null,
   "id": "09576c44",
   "metadata": {},
   "outputs": [],
   "source": []
  }
 ],
 "metadata": {
  "kernelspec": {
   "display_name": "Python 3",
   "language": "python",
   "name": "python3"
  },
  "language_info": {
   "codemirror_mode": {
    "name": "ipython",
    "version": 3
   },
   "file_extension": ".py",
   "mimetype": "text/x-python",
   "name": "python",
   "nbconvert_exporter": "python",
   "pygments_lexer": "ipython3",
   "version": "3.8.8"
  }
 },
 "nbformat": 4,
 "nbformat_minor": 5
}

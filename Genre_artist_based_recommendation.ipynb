{
 "cells": [
  {
   "cell_type": "code",
   "execution_count": null,
   "id": "394fd6e0",
   "metadata": {},
   "outputs": [],
   "source": [
    "import numpy as np\n",
    "import pandas as pd \n",
    "import matplotlib.pyplot as plt \n",
    "import seaborn as sns"
   ]
  },
  {
   "cell_type": "code",
   "execution_count": null,
   "id": "286da735",
   "metadata": {},
   "outputs": [],
   "source": [
    "data = pd.read_csv('data.csv')\n",
    "df_w_genre=pd.read_csv('data_w_genres.csv')\n"
   ]
  },
  {
   "cell_type": "code",
   "execution_count": null,
   "id": "69864abf",
   "metadata": {},
   "outputs": [],
   "source": [
    "data.isnull().sum()"
   ]
  },
  {
   "cell_type": "code",
   "execution_count": null,
   "id": "4b9da3f3",
   "metadata": {},
   "outputs": [],
   "source": [
    "df_w_genre.isnull().sum()"
   ]
  },
  {
   "cell_type": "code",
   "execution_count": null,
   "id": "4e661d0b",
   "metadata": {},
   "outputs": [],
   "source": [
    "merged_data = pd.merge(data, df_w_genre, on=['mode', 'acousticness', 'danceability', 'duration_ms', 'energy',\n",
    "                                            'instrumentalness', 'liveness', 'loudness', 'speechiness', 'tempo',\n",
    "                                            'valence', 'popularity', 'key'])"
   ]
  },
  {
   "cell_type": "code",
   "execution_count": null,
   "id": "dd709f89",
   "metadata": {},
   "outputs": [],
   "source": [
    "numeric_genre_data = df_w_genre.select_dtypes(include = 'number')"
   ]
  },
  {
   "cell_type": "code",
   "execution_count": null,
   "id": "eee33d0d",
   "metadata": {},
   "outputs": [],
   "source": [
    "from sklearn.preprocessing import StandardScaler\n",
    "\n",
    "genrew_scaler = StandardScaler()\n",
    "scaled_genre_data = genrew_scaler.fit_transform(numeric_genre_data)"
   ]
  },
  {
   "cell_type": "code",
   "execution_count": null,
   "id": "b565c90e",
   "metadata": {},
   "outputs": [],
   "source": [
    "from sklearn.cluster import KMeans\n",
    "genre_artist_cluster = KMeans(n_clusters = 20)\n",
    "genre_artist_cluster.fit(scaled_genre_data)"
   ]
  },
  {
   "cell_type": "code",
   "execution_count": null,
   "id": "f6afd573",
   "metadata": {},
   "outputs": [],
   "source": [
    "genre_artist_cluster_labels = genre_artist_cluster.labels_\n",
    "df_w_genre['clusters'] = genre_artist_cluster_labels"
   ]
  },
  {
   "cell_type": "code",
   "execution_count": null,
   "id": "1074f98c",
   "metadata": {},
   "outputs": [],
   "source": [
    "# Reducing the dimension of scaled data using TSNE for graph plotting\n",
    "from sklearn.manifold import TSNE\n",
    "\n",
    "genre_reducer = TSNE(n_components = 2)\n",
    "reduced_genre_data = genre_reducer.fit_transform(scaled_genre_data)\n",
    "\n",
    "#creating new dataset for the reduced dimension values\n",
    "new_genre_dataset = pd.DataFrame(columns = ['x-axis', 'y-axis'], data = reduced_genre_data)\n",
    "new_genre_dataset['genres'] = df_w_genre['genres']\n",
    "new_genre_dataset['clusters'] = df_w_genre['clusters']\n"
   ]
  },
  {
   "cell_type": "code",
   "execution_count": null,
   "id": "3133d1b8",
   "metadata": {},
   "outputs": [],
   "source": [
    "import plotly.express as px\n",
    "genre_cluster_graph = px.scatter(new_genre_dataset, x = 'x-axis', y = 'y-axis', color = 'clusters', hover_data = ['x-axis', 'y-axis', 'genres'])\n",
    "genre_cluster_graph.show()"
   ]
  },
  {
   "cell_type": "code",
   "execution_count": null,
   "id": "7ecc3ba5",
   "metadata": {},
   "outputs": [],
   "source": [
    "numeric_song_data = data.select_dtypes(include = 'number')"
   ]
  },
  {
   "cell_type": "code",
   "execution_count": null,
   "id": "fa0eda44",
   "metadata": {},
   "outputs": [],
   "source": [
    "song_scaler = StandardScaler()\n",
    "scaled_song_data = song_scaler.fit_transform(numeric_song_data)"
   ]
  },
  {
   "cell_type": "code",
   "execution_count": null,
   "id": "8ade6c4b",
   "metadata": {},
   "outputs": [],
   "source": [
    "song_cluster = KMeans(n_clusters = 20)\n",
    "song_cluster.fit(scaled_song_data)"
   ]
  },
  {
   "cell_type": "code",
   "execution_count": null,
   "id": "a5fa514a",
   "metadata": {},
   "outputs": [],
   "source": [
    "song_cluster_labels = song_cluster.labels_\n",
    "data['clusters'] = song_cluster_labels\n"
   ]
  },
  {
   "cell_type": "code",
   "execution_count": null,
   "id": "4f2d7905",
   "metadata": {},
   "outputs": [],
   "source": [
    "from sklearn.decomposition import PCA\n",
    "\n",
    "song_reducer = PCA(n_components = 2)\n",
    "reduced_song_data = song_reducer.fit_transform(scaled_song_data)"
   ]
  },
  {
   "cell_type": "code",
   "execution_count": null,
   "id": "53d4f480",
   "metadata": {},
   "outputs": [],
   "source": [
    "new_song_dataset = pd.DataFrame(columns = ['x-axis', 'y-axis'], data = reduced_song_data)\n",
    "new_song_dataset['name'] = data['name']\n",
    "new_song_dataset['clusters'] = data['clusters']"
   ]
  },
  {
   "cell_type": "code",
   "execution_count": null,
   "id": "529f6f1e",
   "metadata": {},
   "outputs": [],
   "source": [
    "song_graph = px.scatter(new_song_dataset, x = 'x-axis', y = 'y-axis', color = 'clusters', hover_data = ['x-axis', 'y-axis', 'clusters'])\n",
    "song_graph.show()"
   ]
  },
  {
   "cell_type": "code",
   "execution_count": null,
   "id": "38747e67",
   "metadata": {},
   "outputs": [],
   "source": [
    "numeric_artists_data = df_w_genre.select_dtypes(include = 'number')"
   ]
  },
  {
   "cell_type": "code",
   "execution_count": null,
   "id": "86f08233",
   "metadata": {},
   "outputs": [],
   "source": [
    "from sklearn.preprocessing import StandardScaler\n",
    "\n",
    "artist_scaler = StandardScaler()\n",
    "scaled_artist_data = artist_scaler.fit_transform(numeric_artists_data)"
   ]
  },
  {
   "cell_type": "code",
   "execution_count": null,
   "id": "bb5844b8",
   "metadata": {},
   "outputs": [],
   "source": [
    "from sklearn.cluster import KMeans\n",
    "from sklearn.metrics import silhouette_score\n",
    "artist_cluster = KMeans(n_clusters = 10)\n",
    "artist_cluster.fit(scaled_artist_data)"
   ]
  },
  {
   "cell_type": "code",
   "execution_count": null,
   "id": "0766f0c3",
   "metadata": {},
   "outputs": [],
   "source": [
    "artist_cluster_labels = artist_cluster.labels_\n",
    "df_w_genre['clusters'] = artist_cluster_labels"
   ]
  },
  {
   "cell_type": "code",
   "execution_count": null,
   "id": "42150943",
   "metadata": {},
   "outputs": [],
   "source": [
    "# Reducing the dimension of scaled data using TSNE for graph plotting\n",
    "from sklearn.manifold import TSNE\n",
    "\n",
    "genre_reducer = TSNE(n_components = 2)\n",
    "reduced_genre_data = genre_reducer.fit_transform(scaled_artist_data)\n",
    "\n",
    "#creating new dataset for the reduced dimension values\n",
    "new_artist_dataset = pd.DataFrame(columns = ['x-axis', 'y-axis'], data = reduced_genre_data)\n",
    "new_artist_dataset['artists'] = df_w_genre['artists']\n",
    "new_artist_dataset['clusters'] = df_w_genre['clusters']"
   ]
  },
  {
   "cell_type": "code",
   "execution_count": null,
   "id": "d8a564cb",
   "metadata": {},
   "outputs": [],
   "source": [
    "# plotting the cluster graph\n",
    "import plotly.express as px\n",
    "artist_cluster_graph = px.scatter(new_artist_dataset, x = 'x-axis', y = 'y-axis', color = 'clusters', hover_data = ['x-axis', 'y-axis', 'artists'])\n",
    "artist_cluster_graph.show()"
   ]
  },
  {
   "cell_type": "code",
   "execution_count": null,
   "id": "167d68b9",
   "metadata": {},
   "outputs": [],
   "source": [
    "def recommend1(best_song):\n",
    "    song_cluster = data.loc[data['name'] == artist_name, 'clusters'].values[0]\n",
    "    artist_cluster = data.loc[data['name'] == artist_name, 'artists'].values[0]\n",
    "    genre_cluster = data.loc[data['name'] == artist_name,'genres'].values[0]\n",
    "    similar_cluster_songs = data.loc[data['clusters'] == song_cluster]\n",
    "    similar_artist_songs = similar_cluster_songs.loc[similar_cluster_songs['artists'] == song_artist]\n",
    "    similar_genre_songs = similar_artist_songs.loc[similar_artist_songs['genres']== song_artist]\n",
    "    recommending_songs = similar_artist_songs.loc[similar_artist_songs['name'] != artist_name]\n",
    "    top_recommending_songs = recommending_songs.nlargest(5, 'popularity')\n",
    "    for index,row in top_recommending_songs.iterrows():\n",
    "        name_of_song = row['name']\n",
    "        ls.append(name_of_song)\n",
    "    return ls"
   ]
  },
  {
   "cell_type": "code",
   "execution_count": null,
   "id": "fdb1130b",
   "metadata": {},
   "outputs": [],
   "source": []
  }
 ],
 "metadata": {
  "kernelspec": {
   "display_name": "Python 3",
   "language": "python",
   "name": "python3"
  },
  "language_info": {
   "codemirror_mode": {
    "name": "ipython",
    "version": 3
   },
   "file_extension": ".py",
   "mimetype": "text/x-python",
   "name": "python",
   "nbconvert_exporter": "python",
   "pygments_lexer": "ipython3",
   "version": "3.8.8"
  }
 },
 "nbformat": 4,
 "nbformat_minor": 5
}

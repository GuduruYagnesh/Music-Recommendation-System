{
 "cells": [
  {
   "cell_type": "code",
   "execution_count": null,
   "id": "6411f02c",
   "metadata": {},
   "outputs": [],
   "source": [
    "import numpy as np\n",
    "import pandas as pd \n",
    "import matplotlib.pyplot as plt \n",
    "import seaborn as sns"
   ]
  },
  {
   "cell_type": "code",
   "execution_count": null,
   "id": "dcad9d2f",
   "metadata": {},
   "outputs": [],
   "source": [
    "data = pd.read_csv('data.csv')\n",
    "data_genre = pd.read_csv('data_by_genres.csv')"
   ]
  },
  {
   "cell_type": "code",
   "execution_count": null,
   "id": "616fe7a9",
   "metadata": {},
   "outputs": [],
   "source": [
    "data"
   ]
  },
  {
   "cell_type": "code",
   "execution_count": null,
   "id": "a9a7f14c",
   "metadata": {},
   "outputs": [],
   "source": [
    "data.isnull().sum()"
   ]
  },
  {
   "cell_type": "code",
   "execution_count": null,
   "id": "1b32bd50",
   "metadata": {},
   "outputs": [],
   "source": [
    "data_genre"
   ]
  },
  {
   "cell_type": "code",
   "execution_count": null,
   "id": "485cc19f",
   "metadata": {
    "scrolled": true
   },
   "outputs": [],
   "source": [
    "data_genre.isnull().sum()"
   ]
  },
  {
   "cell_type": "markdown",
   "id": "35bd26d5",
   "metadata": {},
   "source": [
    "# Clustering the Genres"
   ]
  },
  {
   "cell_type": "code",
   "execution_count": null,
   "id": "a38fee78",
   "metadata": {},
   "outputs": [],
   "source": [
    "features = ['acousticness','danceability', 'energy','instrumentalness', 'liveness', 'loudness', 'speechiness', 'valence', 'tempo', 'duration_ms', 'key']\n"
   ]
  },
  {
   "cell_type": "code",
   "execution_count": null,
   "id": "c94bb560",
   "metadata": {
    "scrolled": true
   },
   "outputs": [],
   "source": [
    "numeric_genre_data = data_genre[features]\n",
    "numeric_genre_data"
   ]
  },
  {
   "cell_type": "code",
   "execution_count": null,
   "id": "b6638926",
   "metadata": {},
   "outputs": [],
   "source": [
    "# calculating standard scaler vlaues using numerical data in dataset \n",
    "from sklearn.preprocessing import StandardScaler\n",
    "\n",
    "genre_scaler = StandardScaler()\n",
    "scaled_genre_data = genre_scaler.fit_transform(numeric_genre_data)\n",
    "scaled_genre_data"
   ]
  },
  {
   "cell_type": "code",
   "execution_count": null,
   "id": "77a5a00a",
   "metadata": {},
   "outputs": [],
   "source": [
    "# clustering using above scaled data.\n",
    "from sklearn.cluster import KMeans\n",
    "\n",
    "genre_cluster = KMeans(n_clusters = 10)\n",
    "genre_cluster.fit(scaled_genre_data)"
   ]
  },
  {
   "cell_type": "code",
   "execution_count": null,
   "id": "e320c7d7",
   "metadata": {},
   "outputs": [],
   "source": [
    "# labeling the clusters\n",
    "genre_cluster_labels = genre_cluster.labels_\n",
    "# adding those cluster labels to dataset\n",
    "data_genre['clusters'] = genre_cluster_labels\n",
    "data_genre"
   ]
  },
  {
   "cell_type": "code",
   "execution_count": null,
   "id": "30152a90",
   "metadata": {},
   "outputs": [],
   "source": [
    "# Reducing the dimension of scaled data using TSNE for graph plotting\n",
    "from sklearn.manifold import TSNE\n",
    "\n",
    "genre_reducer = TSNE(n_components = 2)\n",
    "reduced_genre_data = genre_reducer.fit_transform(scaled_genre_data)\n",
    "\n",
    "#creating new dataset for the reduced dimension values\n",
    "new_genre_dataset = pd.DataFrame(columns = ['x-axis', 'y-axis'], data = reduced_genre_data)\n",
    "new_genre_dataset['genres'] = data_genre['genres']\n",
    "new_genre_dataset['clusters'] = data_genre['clusters']"
   ]
  },
  {
   "cell_type": "code",
   "execution_count": null,
   "id": "1b36a78f",
   "metadata": {},
   "outputs": [],
   "source": [
    "new_genre_dataset"
   ]
  },
  {
   "cell_type": "code",
   "execution_count": null,
   "id": "c164f14d",
   "metadata": {},
   "outputs": [],
   "source": [
    "# plotting the cluster graph\n",
    "import plotly.express as px\n",
    "genre_cluster_graph = px.scatter(new_genre_dataset, x = 'x-axis', y = 'y-axis', color = 'clusters', hover_data = ['x-axis', 'y-axis', 'genres'])\n",
    "genre_cluster_graph.show()"
   ]
  },
  {
   "cell_type": "markdown",
   "id": "d68ed90a",
   "metadata": {},
   "source": [
    "# Clustering of songs with names"
   ]
  },
  {
   "cell_type": "code",
   "execution_count": null,
   "id": "8faff099",
   "metadata": {},
   "outputs": [],
   "source": [
    "# taking the numeric data\n",
    "\n",
    "numeric_song_data = data[features]\n",
    "numeric_song_data"
   ]
  },
  {
   "cell_type": "code",
   "execution_count": null,
   "id": "6b004c09",
   "metadata": {},
   "outputs": [],
   "source": [
    "# scaling the data\n",
    "from sklearn.preprocessing import StandardScaler\n",
    "\n",
    "song_scaler = StandardScaler()\n",
    "scaled_song_data = song_scaler.fit_transform(numeric_song_data)"
   ]
  },
  {
   "cell_type": "code",
   "execution_count": null,
   "id": "6c8e2b42",
   "metadata": {},
   "outputs": [],
   "source": [
    "# clustering the scaled data.\n",
    "from sklearn.cluster import KMeans\n",
    "\n",
    "song_cluster = KMeans(n_clusters = 20)\n",
    "song_cluster.fit(scaled_song_data)"
   ]
  },
  {
   "cell_type": "code",
   "execution_count": null,
   "id": "cf354be3",
   "metadata": {},
   "outputs": [],
   "source": [
    "# labeling song clusters\n",
    "song_cluster_labels = song_cluster.labels_\n",
    "\n",
    "# addinng cluster lables to the datset\n",
    "data['clusters'] = song_cluster_labels\n"
   ]
  },
  {
   "cell_type": "code",
   "execution_count": null,
   "id": "d421ce42",
   "metadata": {},
   "outputs": [],
   "source": [
    "# reducing the dimensionality for graph plotting.\n",
    "# as data has linear relation instead of TSNE we use PCA\n",
    "\n",
    "from sklearn.decomposition import PCA\n",
    "\n",
    "song_reducer = PCA(n_components = 2)\n",
    "reduced_song_data = song_reducer.fit_transform(scaled_song_data)"
   ]
  },
  {
   "cell_type": "code",
   "execution_count": null,
   "id": "fcd1877b",
   "metadata": {},
   "outputs": [],
   "source": [
    "new_song_dataset = pd.DataFrame(columns = ['x-axis', 'y-axis'], data = reduced_song_data)\n",
    "new_song_dataset['name'] = data['name']\n",
    "new_song_dataset['clusters'] = data['clusters']"
   ]
  },
  {
   "cell_type": "code",
   "execution_count": null,
   "id": "18e8b372",
   "metadata": {},
   "outputs": [],
   "source": [
    "import plotly.express as px\n",
    "\n",
    "song_graph = px.scatter(new_song_dataset, x = 'x-axis', y = 'y-axis', color = 'clusters', hover_data = ['x-axis', 'y-axis', 'clusters'])\n",
    "song_graph.show()"
   ]
  },
  {
   "cell_type": "markdown",
   "id": "78544bf8",
   "metadata": {},
   "source": [
    "# Recommending Songs\n",
    "     If input is song name"
   ]
  },
  {
   "cell_type": "code",
   "execution_count": null,
   "id": "d4141d22",
   "metadata": {},
   "outputs": [],
   "source": [
    "from sklearn.metrics.pairwise import cosine_similarity"
   ]
  },
  {
   "cell_type": "code",
   "execution_count": null,
   "id": "b5ef025b",
   "metadata": {},
   "outputs": [],
   "source": [
    "def GenreBasedRecommender1(song_name):\n",
    "    # finding the song genre\n",
    "    song_values = data.loc[data['name'] == song_name, features].iloc[0]\n",
    "    best_genre_match = None\n",
    "    best_genre_similarity = -1\n",
    "    for index,row in data_genre.iterrows():\n",
    "        genre_values = row[features]\n",
    "        genre_similarity = cosine_similarity([song_values],[genre_values])[0][0]\n",
    "        if similarity > best_genre_similarity:\n",
    "            best_genre_match = row['genres']\n",
    "            best_genre_similarity = similarity\n",
    "            \n",
    "    song_genre = best_genre_match\n",
    "    # finding similar songs to recommend\n",
    "    best_songs = {}\n",
    "    genre_features = data_genre.loc[data_genre['genres'] == song_genre, features].iloc[0]\n",
    "    best_song_match = None\n",
    "    best_song_similarity = -1\n",
    "    \n",
    "    for index,row in data.iterrows():\n",
    "        song_features = row[features]\n",
    "        song_similarity = cosine_similarity([song_features],[genre_features])[0][0]\n",
    "        if song_similarity > best_song_similarity:\n",
    "            best_song_match = row['name']\n",
    "            best_song_similarity = song_similarity\n",
    "            best_songs[best_song_match] = best_song_similarity\n",
    "    return best_songs"
   ]
  },
  {
   "cell_type": "code",
   "execution_count": null,
   "id": "e4aa5b3d",
   "metadata": {},
   "outputs": [],
   "source": [
    "# Calling the recommending function\n",
    "best_songs = GenreBasedRecommender1(\"Clancy Lowered the Boom\")\n",
    "# sorting the best similar songs\n",
    "sorted_best_songs = dict(sorted(best_songs.items(), key = lambda x: x[1]))\n",
    "# Printing the recommending songs\n",
    "best_songs_list = list(sorted_best_songs.keys())\n",
    "for i in range(len(best_songs_list)):\n",
    "    if i <= 4 :\n",
    "        print(best_songs_list[i])\n",
    "    else:\n",
    "        break"
   ]
  },
  {
   "cell_type": "markdown",
   "id": "4b0622ee",
   "metadata": {},
   "source": [
    "# Recommending Songs \n",
    "    input is genre."
   ]
  },
  {
   "cell_type": "code",
   "execution_count": null,
   "id": "9bec6a5e",
   "metadata": {},
   "outputs": [],
   "source": [
    "from sklearn.metrics.pairwise import cosine_similarity"
   ]
  },
  {
   "cell_type": "code",
   "execution_count": null,
   "id": "30d54e9b",
   "metadata": {},
   "outputs": [],
   "source": [
    "def GenreBasedRecommender2(genre_name):\n",
    "    genre_features = data_genre.loc[data_genre['genres'] == genre_name, features].iloc[0]\n",
    "    best_songs = {}\n",
    "    best_song_match = None\n",
    "    best_song_similarity = -1\n",
    "    for index,row in data.iterrows():\n",
    "        song_features = row[features]\n",
    "        similarity = cosine_similarity([song_features], [genre_features])[0][0]\n",
    "        if similarity > best_song_similarity:\n",
    "            best_song_match = row['name']\n",
    "            best_song_similarity = similarity\n",
    "            best_songs[best_song_match] = best_song_similarity\n",
    "    return best_songs"
   ]
  },
  {
   "cell_type": "code",
   "execution_count": null,
   "id": "1fe05137",
   "metadata": {},
   "outputs": [],
   "source": [
    "# Calling the recommending function\n",
    "best_songs = GenreBasedRecommender2(\"a cappella\")\n",
    "# sorting the best similar songs\n",
    "sorted_best_songs = dict(sorted(best_songs.items(), key = lambda x: x[1]))\n",
    "# Printing the recommending songs\n",
    "best_songs_list = list(sorted_best_songs.keys())\n",
    "for i in range(len(best_songs_list)):\n",
    "    if i <= 4 :\n",
    "        print(best_songs_list[i])\n",
    "    else:\n",
    "        break"
   ]
  },
  {
   "cell_type": "code",
   "execution_count": null,
   "id": "315f04f2",
   "metadata": {},
   "outputs": [],
   "source": []
  }
 ],
 "metadata": {
  "kernelspec": {
   "display_name": "Python 3",
   "language": "python",
   "name": "python3"
  },
  "language_info": {
   "codemirror_mode": {
    "name": "ipython",
    "version": 3
   },
   "file_extension": ".py",
   "mimetype": "text/x-python",
   "name": "python",
   "nbconvert_exporter": "python",
   "pygments_lexer": "ipython3",
   "version": "3.8.8"
  }
 },
 "nbformat": 4,
 "nbformat_minor": 5
}

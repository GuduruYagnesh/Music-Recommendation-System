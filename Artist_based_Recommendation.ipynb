{
 "cells": [
  {
   "cell_type": "code",
   "execution_count": null,
   "id": "3c68d119",
   "metadata": {},
   "outputs": [],
   "source": [
    "import pandas as pd\n",
    "import numpy as np\n",
    "import matplotlib.pyplot as mtp\n",
    "import seaborn as sns\n",
    "import warnings\n",
    "import plotly.express as px\n",
    "warnings.filterwarnings(\"ignore\")"
   ]
  },
  {
   "cell_type": "code",
   "execution_count": null,
   "id": "8372a3ba",
   "metadata": {},
   "outputs": [],
   "source": [
    "artist_data = pd.read_csv(\"data_by_artist.csv\")\n",
    "data = pd.read_csv(\"data.csv\")"
   ]
  },
  {
   "cell_type": "code",
   "execution_count": null,
   "id": "1a665783",
   "metadata": {},
   "outputs": [],
   "source": [
    "artist_data.info()"
   ]
  },
  {
   "cell_type": "code",
   "execution_count": null,
   "id": "edf36a61",
   "metadata": {},
   "outputs": [],
   "source": [
    "artist_data.isnull().sum()"
   ]
  },
  {
   "cell_type": "code",
   "execution_count": null,
   "id": "c80abf15",
   "metadata": {},
   "outputs": [],
   "source": [
    "data.info()"
   ]
  },
  {
   "cell_type": "code",
   "execution_count": null,
   "id": "97f69d92",
   "metadata": {},
   "outputs": [],
   "source": [
    "data.isnull().sum()"
   ]
  },
  {
   "cell_type": "code",
   "execution_count": null,
   "id": "c0bc7a3c",
   "metadata": {},
   "outputs": [],
   "source": [
    "features = ['acousticness','danceability', 'energy','instrumentalness', 'liveness', 'loudness', 'speechiness', 'valence', 'tempo', 'duration_ms', 'key']"
   ]
  },
  {
   "cell_type": "code",
   "execution_count": null,
   "id": "a7eee932",
   "metadata": {
    "scrolled": true
   },
   "outputs": [],
   "source": [
    "numeric_song_data = data[features]\n",
    "numeric_song_data"
   ]
  },
  {
   "cell_type": "code",
   "execution_count": null,
   "id": "aa5c7d2b",
   "metadata": {},
   "outputs": [],
   "source": [
    "from sklearn.preprocessing import StandardScaler\n",
    "#scaling data\n",
    "song_scaler = StandardScaler()\n",
    "scaled_song_data = song_scaler.fit_transform(numeric_song_data)\n",
    "\n",
    "#clusteriong the scaled data\n",
    "from sklearn.cluster import KMeans\n",
    "song_cluster = KMeans(n_clusters = 20)\n",
    "song_cluster.fit(scaled_song_data)\n"
   ]
  },
  {
   "cell_type": "code",
   "execution_count": null,
   "id": "21584319",
   "metadata": {},
   "outputs": [],
   "source": [
    "# labeling song clusters\n",
    "song_cluster_labels = song_cluster.labels_\n",
    "\n",
    "# addinng cluster lables to the datset\n",
    "data['clusters'] = song_cluster_labels\n",
    "\n",
    "# reducing the dimensionality for graph plotting.\n",
    "# as data has linear relation instead of TSNE we use PCA\n",
    "\n",
    "from sklearn.decomposition import PCA\n",
    "\n",
    "song_reducer = PCA(n_components = 2)\n",
    "reduced_song_data = song_reducer.fit_transform(scaled_song_data)"
   ]
  },
  {
   "cell_type": "code",
   "execution_count": null,
   "id": "54677ade",
   "metadata": {},
   "outputs": [],
   "source": [
    "new_song_dataset = pd.DataFrame(columns = ['x-axis', 'y-axis'], data = reduced_song_data)\n",
    "new_song_dataset['name'] = data['name']\n",
    "new_song_dataset['clusters'] = data['clusters']"
   ]
  },
  {
   "cell_type": "code",
   "execution_count": null,
   "id": "bd1d4efd",
   "metadata": {},
   "outputs": [],
   "source": [
    "song_graph = px.scatter(new_song_dataset, x = 'x-axis', y = 'y-axis', color = 'clusters', hover_data = ['x-axis', 'y-axis', 'clusters'])\n",
    "song_graph.show()"
   ]
  },
  {
   "cell_type": "code",
   "execution_count": null,
   "id": "a59a001f",
   "metadata": {},
   "outputs": [],
   "source": []
  },
  {
   "cell_type": "markdown",
   "id": "5fe4a639",
   "metadata": {},
   "source": [
    "# Recommending songs.\n",
    "    If the input is song name."
   ]
  },
  {
   "cell_type": "code",
   "execution_count": null,
   "id": "2c15a49b",
   "metadata": {},
   "outputs": [],
   "source": [
    "def ArtistBasedRecommender1(song_name):\n",
    "#     finding the cluster of the song\n",
    "    song_cluster = data.loc[data['name'] == song_name, 'clusters'].values[0]\n",
    "#     finding the artist of the song\n",
    "    song_artist = data.loc[data['name'] == song_name, 'artists'].values[0]\n",
    "#     finding similar cluster songs\n",
    "    similar_cluster_songs = data.loc[data['clusters'] == song_cluster]\n",
    "#     finding the similar artist songs from similar clustered songs\n",
    "    similar_artist_songs = similar_cluster_songs.loc[similar_cluster_songs['artists'] == song_artist]\n",
    "    recommending_songs = similar_artist_songs.loc[similar_artist_songs['name'] != song_name]\n",
    "    top_recommending_songs = recommending_songs.nlargest(5, 'popularity')\n",
    "    \n",
    "    ls = []\n",
    "    \n",
    "    for index,row in top_recommending_songs.iterrows():\n",
    "        name_of_song = row['name']\n",
    "        ls.append(name_of_song)\n",
    "    return ls\n",
    "   "
   ]
  },
  {
   "cell_type": "code",
   "execution_count": null,
   "id": "ca18e541",
   "metadata": {},
   "outputs": [],
   "source": [
    "best_songs = ArtistBasedRecommender1('Ace')\n",
    "for i in best_songs:\n",
    "    print(i)"
   ]
  },
  {
   "cell_type": "markdown",
   "id": "d6b91f45",
   "metadata": {},
   "source": [
    "# Recommending songs\n",
    "    If the input is artist name."
   ]
  },
  {
   "cell_type": "code",
   "execution_count": null,
   "id": "63f663c5",
   "metadata": {},
   "outputs": [],
   "source": [
    "from sklearn.metrics.pairwise import cosine_similarity\n",
    "\n",
    "def ArtistBasedRecommender2(song_artist):\n",
    "\n",
    "    artist_songs = data.loc[data['artists'] == song_artist]\n",
    "    \n",
    "    top_recommending_songs = artist_songs.nlargest(5, 'popularity')\n",
    "    \n",
    "    for index,row in top_recommending_songs.iterrows():\n",
    "        song_name = row['name']\n",
    "        print(song_name)\n"
   ]
  },
  {
   "cell_type": "code",
   "execution_count": null,
   "id": "7f82c1c4",
   "metadata": {},
   "outputs": [],
   "source": [
    "best_songs = ArtistBasedRecommender2(\"['Eminem']\")\n",
    "best_songs"
   ]
  },
  {
   "cell_type": "code",
   "execution_count": null,
   "id": "a9072c7a",
   "metadata": {},
   "outputs": [],
   "source": []
  }
 ],
 "metadata": {
  "kernelspec": {
   "display_name": "Python 3",
   "language": "python",
   "name": "python3"
  },
  "language_info": {
   "codemirror_mode": {
    "name": "ipython",
    "version": 3
   },
   "file_extension": ".py",
   "mimetype": "text/x-python",
   "name": "python",
   "nbconvert_exporter": "python",
   "pygments_lexer": "ipython3",
   "version": "3.8.8"
  }
 },
 "nbformat": 4,
 "nbformat_minor": 5
}
